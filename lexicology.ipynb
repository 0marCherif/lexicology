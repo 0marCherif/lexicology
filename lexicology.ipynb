{
 "cells": [
  {
   "cell_type": "code",
   "execution_count": 1,
   "id": "40917beb-3fe4-41f1-9145-aeebec025513",
   "metadata": {},
   "outputs": [],
   "source": [
    "from tqdm import tqdm\n",
    "import spacy"
   ]
  },
  {
   "cell_type": "code",
   "execution_count": 2,
   "id": "64213458-ac3a-47c2-992d-3c560198cd04",
   "metadata": {},
   "outputs": [],
   "source": [
    "#import lemminflect\n",
    "\n",
    "#> doc[2]._.lemma() \n",
    "#> doc[4]._.inflect('NNS')\n"
   ]
  },
  {
   "cell_type": "code",
   "execution_count": 3,
   "id": "baee7844-a067-4776-854d-d719ac067bb8",
   "metadata": {},
   "outputs": [],
   "source": [
    "# nlp = spacy.load(\"en_core_web_sm\")\n",
    "# nlp = spacy.load(\"en_core_web_trf\") # more accurate but slower\n",
    "nlp = spacy.load(\"en_core_web_trf\", disable=['parser', 'ner']) \n",
    "\n",
    "#lemmatizer = nlp.add_pipe(\"lemmatizer\")"
   ]
  },
  {
   "cell_type": "code",
   "execution_count": 4,
   "id": "4a28acbe",
   "metadata": {
    "scrolled": true
   },
   "outputs": [
    {
     "data": {
      "text/plain": [
       "\"\\nimport nltk\\nfrom nltk.tokenize import word_tokenize\\nnltk.download('omw-1.4')\\nnltk.download('punkt')\\n\""
      ]
     },
     "execution_count": 4,
     "metadata": {},
     "output_type": "execute_result"
    }
   ],
   "source": [
    "'''\n",
    "import nltk\n",
    "from nltk.tokenize import word_tokenize\n",
    "nltk.download('omw-1.4')\n",
    "nltk.download('punkt')\n",
    "'''"
   ]
  },
  {
   "cell_type": "code",
   "execution_count": 5,
   "id": "0e131133",
   "metadata": {},
   "outputs": [
    {
     "data": {
      "text/plain": [
       "'\\nfrom nltk.stem import WordNetLemmatizer\\nnltk.download(\\'wordnet\\')\\nlemmatizer = WordNetLemmatizer()\\n  \\nprint(\"rocks :\", lemmatizer.lemmatize(\"rocks\"))\\nprint(\"crafty :\", lemmatizer.lemmatize(\"crafty\"))\\nprint(\"artificially :\", lemmatizer.lemmatize(\"artificially\"))\\n'"
      ]
     },
     "execution_count": 5,
     "metadata": {},
     "output_type": "execute_result"
    }
   ],
   "source": [
    "import pandas as pd\n",
    "\n",
    "'''\n",
    "from nltk.stem import WordNetLemmatizer\n",
    "nltk.download('wordnet')\n",
    "lemmatizer = WordNetLemmatizer()\n",
    "  \n",
    "print(\"rocks :\", lemmatizer.lemmatize(\"rocks\"))\n",
    "print(\"crafty :\", lemmatizer.lemmatize(\"crafty\"))\n",
    "print(\"artificially :\", lemmatizer.lemmatize(\"artificially\"))\n",
    "'''\n"
   ]
  },
  {
   "cell_type": "code",
   "execution_count": 6,
   "id": "31d5b781",
   "metadata": {},
   "outputs": [
    {
     "data": {
      "text/html": [
       "<div>\n",
       "<style scoped>\n",
       "    .dataframe tbody tr th:only-of-type {\n",
       "        vertical-align: middle;\n",
       "    }\n",
       "\n",
       "    .dataframe tbody tr th {\n",
       "        vertical-align: top;\n",
       "    }\n",
       "\n",
       "    .dataframe thead th {\n",
       "        text-align: right;\n",
       "    }\n",
       "</style>\n",
       "<table border=\"1\" class=\"dataframe\">\n",
       "  <thead>\n",
       "    <tr style=\"text-align: right;\">\n",
       "      <th></th>\n",
       "      <th>Word</th>\n",
       "      <th>Count</th>\n",
       "      <th>POS</th>\n",
       "      <th>Definition</th>\n",
       "    </tr>\n",
       "  </thead>\n",
       "  <tbody>\n",
       "    <tr>\n",
       "      <th>0</th>\n",
       "      <td>A</td>\n",
       "      <td>1</td>\n",
       "      <td>\"\"</td>\n",
       "      <td>\"The first letter of the English and of many o...</td>\n",
       "    </tr>\n",
       "    <tr>\n",
       "      <th>1</th>\n",
       "      <td>A</td>\n",
       "      <td>1</td>\n",
       "      <td>\"\"</td>\n",
       "      <td>\"The name of the sixth tone in the model major...</td>\n",
       "    </tr>\n",
       "    <tr>\n",
       "      <th>2</th>\n",
       "      <td>A</td>\n",
       "      <td>1</td>\n",
       "      <td>\"\"</td>\n",
       "      <td>\"An adjective  commonly called the indefinite ...</td>\n",
       "    </tr>\n",
       "    <tr>\n",
       "      <th>3</th>\n",
       "      <td>A</td>\n",
       "      <td>1</td>\n",
       "      <td>\"\"</td>\n",
       "      <td>\"In each; to or for each; as  \"\"\"\"twenty leagu...</td>\n",
       "    </tr>\n",
       "    <tr>\n",
       "      <th>4</th>\n",
       "      <td>A</td>\n",
       "      <td>1</td>\n",
       "      <td>\"prep.\"</td>\n",
       "      <td>\"In; on; at; by.\"</td>\n",
       "    </tr>\n",
       "    <tr>\n",
       "      <th>5</th>\n",
       "      <td>A</td>\n",
       "      <td>1</td>\n",
       "      <td>\"prep.\"</td>\n",
       "      <td>\"In process of; in the act of; into; to; -- us...</td>\n",
       "    </tr>\n",
       "    <tr>\n",
       "      <th>6</th>\n",
       "      <td>A</td>\n",
       "      <td>1</td>\n",
       "      <td>\"\"</td>\n",
       "      <td>\"Of.\"</td>\n",
       "    </tr>\n",
       "    <tr>\n",
       "      <th>7</th>\n",
       "      <td>A</td>\n",
       "      <td>1</td>\n",
       "      <td>\"\"</td>\n",
       "      <td>\"A barbarous corruption of have  of he and som...</td>\n",
       "    </tr>\n",
       "    <tr>\n",
       "      <th>8</th>\n",
       "      <td>A</td>\n",
       "      <td>1</td>\n",
       "      <td>\"\"</td>\n",
       "      <td>\"An expletive  void of sense to fill up the me...</td>\n",
       "    </tr>\n",
       "    <tr>\n",
       "      <th>9</th>\n",
       "      <td>A-</td>\n",
       "      <td>2</td>\n",
       "      <td>\"\"</td>\n",
       "      <td>\"A  as a prefix to English words is derived fr...</td>\n",
       "    </tr>\n",
       "  </tbody>\n",
       "</table>\n",
       "</div>"
      ],
      "text/plain": [
       "  Word Count      POS                                         Definition\n",
       "0    A     1       \"\"  \"The first letter of the English and of many o...\n",
       "1    A     1       \"\"  \"The name of the sixth tone in the model major...\n",
       "2    A     1       \"\"  \"An adjective  commonly called the indefinite ...\n",
       "3    A     1       \"\"  \"In each; to or for each; as  \"\"\"\"twenty leagu...\n",
       "4    A     1  \"prep.\"                                  \"In; on; at; by.\"\n",
       "5    A     1  \"prep.\"  \"In process of; in the act of; into; to; -- us...\n",
       "6    A     1       \"\"                                              \"Of.\"\n",
       "7    A     1       \"\"  \"A barbarous corruption of have  of he and som...\n",
       "8    A     1       \"\"  \"An expletive  void of sense to fill up the me...\n",
       "9   A-     2       \"\"  \"A  as a prefix to English words is derived fr..."
      ]
     },
     "execution_count": 6,
     "metadata": {},
     "output_type": "execute_result"
    }
   ],
   "source": [
    "df = pd.read_csv('OPTED.csv')\n",
    "df.head(10)"
   ]
  },
  {
   "cell_type": "code",
   "execution_count": 7,
   "id": "797e5513-9c05-4fcf-a810-93236401615b",
   "metadata": {},
   "outputs": [
    {
     "data": {
      "text/html": [
       "<div>\n",
       "<style scoped>\n",
       "    .dataframe tbody tr th:only-of-type {\n",
       "        vertical-align: middle;\n",
       "    }\n",
       "\n",
       "    .dataframe tbody tr th {\n",
       "        vertical-align: top;\n",
       "    }\n",
       "\n",
       "    .dataframe thead th {\n",
       "        text-align: right;\n",
       "    }\n",
       "</style>\n",
       "<table border=\"1\" class=\"dataframe\">\n",
       "  <thead>\n",
       "    <tr style=\"text-align: right;\">\n",
       "      <th></th>\n",
       "      <th>Word</th>\n",
       "      <th>Count</th>\n",
       "      <th>POS</th>\n",
       "      <th>Definition</th>\n",
       "    </tr>\n",
       "  </thead>\n",
       "  <tbody>\n",
       "    <tr>\n",
       "      <th>30537</th>\n",
       "      <td>Commonly</td>\n",
       "      <td>8</td>\n",
       "      <td>\"adv.\"</td>\n",
       "      <td>\"Usually; generally; ordinarily; frequently; f...</td>\n",
       "    </tr>\n",
       "    <tr>\n",
       "      <th>30538</th>\n",
       "      <td>Commonly</td>\n",
       "      <td>8</td>\n",
       "      <td>\"adv.\"</td>\n",
       "      <td>\"In common; familiarly.\"</td>\n",
       "    </tr>\n",
       "  </tbody>\n",
       "</table>\n",
       "</div>"
      ],
      "text/plain": [
       "           Word Count     POS  \\\n",
       "30537  Commonly     8  \"adv.\"   \n",
       "30538  Commonly     8  \"adv.\"   \n",
       "\n",
       "                                              Definition  \n",
       "30537  \"Usually; generally; ordinarily; frequently; f...  \n",
       "30538                           \"In common; familiarly.\"  "
      ]
     },
     "execution_count": 7,
     "metadata": {},
     "output_type": "execute_result"
    }
   ],
   "source": [
    "df.loc[ df['Word'] == 'Stove' ]\n",
    "\n",
    "#df.loc[ df['Word'] == 'House' ]\n",
    "#df.loc[ df['Word'] == 'Room' ]\n",
    "#df.loc[ df['Word'] == 'Artificial' ]\n",
    "#df.loc[ df['Word'] == 'Warm' ]\n",
    "df.loc[ df['Word'] == 'Heat' ]\n",
    "\n",
    "df.loc[ df['Word'] == 'Common' ]\n",
    "df.loc[ df['Word'] == 'Commonly' ]\n",
    "#df.loc[ df['Word'] == 'Commonly' ]['Definition'][30537]\n",
    "\n",
    "#df.loc[ df['Word'] == 'Consult' ]\n",
    "#df.loc[ df['Word'] == 'Consulting' ]"
   ]
  },
  {
   "cell_type": "code",
   "execution_count": 8,
   "id": "42206b97-31db-42ee-840a-f8a5b86e4914",
   "metadata": {},
   "outputs": [],
   "source": [
    "#df = df.sample(99) # for testing\n",
    "df = df[0:99] # for testing"
   ]
  },
  {
   "cell_type": "code",
   "execution_count": 9,
   "id": "9e6b1388-dc2d-4876-aa21-eaeb271166b6",
   "metadata": {},
   "outputs": [],
   "source": [
    "#from numba import jit, njit\n",
    "\n",
    "#@jit(nopython=True) # Set \"nopython\" mode for best performance, equivalent to @njit\n",
    "'''\n",
    "for element, row in tqdm(df.iterrows()):\n",
    "    definition=''\n",
    "    doc = nlp(row['Definition'])\n",
    "    for token in doc:\n",
    "        definition =definition+' '+token.lemma_\n",
    "    row['Definition']=definition\n",
    "   ''' \n",
    "\n",
    "#@jit\n",
    "def lemmatize_definitions(df):\n",
    "    for element, row in tqdm(df.iterrows()):\n",
    "        definition=''\n",
    "        doc = nlp(row['Definition'])\n",
    "        for token in doc:\n",
    "            #definition = definition+' '+token._.lemma() \n",
    "            definition = definition+' '+token.lemma_\n",
    "        row['Definition']=definition\n",
    "\n"
   ]
  },
  {
   "cell_type": "code",
   "execution_count": 10,
   "id": "021ebe8c",
   "metadata": {},
   "outputs": [
    {
     "name": "stderr",
     "output_type": "stream",
     "text": [
      "0it [00:00, ?it/s]/home/user/miniforge3/envs/NN_labs/lib/python3.8/site-packages/torch/amp/autocast_mode.py:198: UserWarning: User provided device_type of 'cuda', but CUDA is not available. Disabling\n",
      "  warnings.warn('User provided device_type of \\'cuda\\', but CUDA is not available. Disabling')\n",
      "99it [00:18,  5.23it/s]\n"
     ]
    }
   ],
   "source": [
    "lemmatize_definitions(df)"
   ]
  },
  {
   "cell_type": "code",
   "execution_count": 11,
   "id": "29e68c30",
   "metadata": {},
   "outputs": [
    {
     "data": {
      "text/html": [
       "<div>\n",
       "<style scoped>\n",
       "    .dataframe tbody tr th:only-of-type {\n",
       "        vertical-align: middle;\n",
       "    }\n",
       "\n",
       "    .dataframe tbody tr th {\n",
       "        vertical-align: top;\n",
       "    }\n",
       "\n",
       "    .dataframe thead th {\n",
       "        text-align: right;\n",
       "    }\n",
       "</style>\n",
       "<table border=\"1\" class=\"dataframe\">\n",
       "  <thead>\n",
       "    <tr style=\"text-align: right;\">\n",
       "      <th></th>\n",
       "      <th>Word</th>\n",
       "      <th>Count</th>\n",
       "      <th>POS</th>\n",
       "      <th>Definition</th>\n",
       "    </tr>\n",
       "  </thead>\n",
       "  <tbody>\n",
       "    <tr>\n",
       "      <th>0</th>\n",
       "      <td>A</td>\n",
       "      <td>1</td>\n",
       "      <td>\"\"</td>\n",
       "      <td>\" the first letter of the English and of many...</td>\n",
       "    </tr>\n",
       "    <tr>\n",
       "      <th>1</th>\n",
       "      <td>A</td>\n",
       "      <td>1</td>\n",
       "      <td>\"\"</td>\n",
       "      <td>\" the name of the sixth tone in the model maj...</td>\n",
       "    </tr>\n",
       "    <tr>\n",
       "      <th>2</th>\n",
       "      <td>A</td>\n",
       "      <td>1</td>\n",
       "      <td>\"\"</td>\n",
       "      <td>\" an adjective   commonly call the indefinite...</td>\n",
       "    </tr>\n",
       "    <tr>\n",
       "      <th>3</th>\n",
       "      <td>A</td>\n",
       "      <td>1</td>\n",
       "      <td>\"\"</td>\n",
       "      <td>\" in each ; to or for each ; as   \" \" \" \" twe...</td>\n",
       "    </tr>\n",
       "    <tr>\n",
       "      <th>4</th>\n",
       "      <td>A</td>\n",
       "      <td>1</td>\n",
       "      <td>\"prep.\"</td>\n",
       "      <td>\" in ; on ; at ; by . \"</td>\n",
       "    </tr>\n",
       "    <tr>\n",
       "      <th>5</th>\n",
       "      <td>A</td>\n",
       "      <td>1</td>\n",
       "      <td>\"prep.\"</td>\n",
       "      <td>\" in process of ; in the act of ; into ; to ;...</td>\n",
       "    </tr>\n",
       "    <tr>\n",
       "      <th>6</th>\n",
       "      <td>A</td>\n",
       "      <td>1</td>\n",
       "      <td>\"\"</td>\n",
       "      <td>\" of . \"</td>\n",
       "    </tr>\n",
       "    <tr>\n",
       "      <th>7</th>\n",
       "      <td>A</td>\n",
       "      <td>1</td>\n",
       "      <td>\"\"</td>\n",
       "      <td>\" a barbarous corruption of have   of he and ...</td>\n",
       "    </tr>\n",
       "    <tr>\n",
       "      <th>8</th>\n",
       "      <td>A</td>\n",
       "      <td>1</td>\n",
       "      <td>\"\"</td>\n",
       "      <td>\" an expletive   void of sense to fill up the...</td>\n",
       "    </tr>\n",
       "    <tr>\n",
       "      <th>9</th>\n",
       "      <td>A-</td>\n",
       "      <td>2</td>\n",
       "      <td>\"\"</td>\n",
       "      <td>\" a   as a prefix to english word be derive f...</td>\n",
       "    </tr>\n",
       "  </tbody>\n",
       "</table>\n",
       "</div>"
      ],
      "text/plain": [
       "  Word Count      POS                                         Definition\n",
       "0    A     1       \"\"   \" the first letter of the English and of many...\n",
       "1    A     1       \"\"   \" the name of the sixth tone in the model maj...\n",
       "2    A     1       \"\"   \" an adjective   commonly call the indefinite...\n",
       "3    A     1       \"\"   \" in each ; to or for each ; as   \" \" \" \" twe...\n",
       "4    A     1  \"prep.\"                            \" in ; on ; at ; by . \"\n",
       "5    A     1  \"prep.\"   \" in process of ; in the act of ; into ; to ;...\n",
       "6    A     1       \"\"                                           \" of . \"\n",
       "7    A     1       \"\"   \" a barbarous corruption of have   of he and ...\n",
       "8    A     1       \"\"   \" an expletive   void of sense to fill up the...\n",
       "9   A-     2       \"\"   \" a   as a prefix to english word be derive f..."
      ]
     },
     "execution_count": 11,
     "metadata": {},
     "output_type": "execute_result"
    }
   ],
   "source": [
    "lem=df\n",
    "lem.head(10)\n",
    "#lem"
   ]
  },
  {
   "cell_type": "code",
   "execution_count": 12,
   "id": "c052df4e",
   "metadata": {},
   "outputs": [],
   "source": [
    "vocabulary=[]\n",
    "with open('1-1000.txt') as file:\n",
    "   lol = file.read()\n",
    "   vocabulary=(lol.split('\\n'))\n",
    "#vocabulary"
   ]
  },
  {
   "cell_type": "code",
   "execution_count": 13,
   "id": "49cd5690",
   "metadata": {},
   "outputs": [],
   "source": [
    "dictionary={}\n",
    "\n",
    "for element,row in lem.iterrows():\n",
    "    if(row['Word'] in dictionary):\n",
    "        dictionary[row['Word']].append(row['Definition'])\n",
    "    else:\n",
    "        dictionary[row['Word']]=[]\n",
    "        dictionary[row['Word']].append(row['Definition'])\n",
    "\n",
    "        "
   ]
  },
  {
   "cell_type": "code",
   "execution_count": 14,
   "id": "ee78eb03-08de-436a-8211-21ba6fa8ccff",
   "metadata": {},
   "outputs": [],
   "source": [
    "#dictionary['A'][0]"
   ]
  },
  {
   "cell_type": "code",
   "execution_count": 15,
   "id": "d087e7f8-0fd5-4cd7-a65c-765ab5dc69b2",
   "metadata": {},
   "outputs": [
    {
     "ename": "KeyError",
     "evalue": "'Stove'",
     "output_type": "error",
     "traceback": [
      "\u001b[0;31m---------------------------------------------------------------------------\u001b[0m",
      "\u001b[0;31mKeyError\u001b[0m                                  Traceback (most recent call last)",
      "Input \u001b[0;32mIn [15]\u001b[0m, in \u001b[0;36m<cell line: 2>\u001b[0;34m()\u001b[0m\n\u001b[1;32m      1\u001b[0m \u001b[38;5;66;03m#dictionary['Ogle'][0]\u001b[39;00m\n\u001b[0;32m----> 2\u001b[0m \u001b[43mdictionary\u001b[49m\u001b[43m[\u001b[49m\u001b[38;5;124;43m'\u001b[39;49m\u001b[38;5;124;43mStove\u001b[39;49m\u001b[38;5;124;43m'\u001b[39;49m\u001b[43m]\u001b[49m[\u001b[38;5;241m0\u001b[39m]\n",
      "\u001b[0;31mKeyError\u001b[0m: 'Stove'"
     ]
    }
   ],
   "source": [
    "#dictionary['Ogle'][0]\n",
    "dictionary['Stove'][0]"
   ]
  },
  {
   "cell_type": "code",
   "execution_count": null,
   "id": "3b96b9a0",
   "metadata": {},
   "outputs": [],
   "source": [
    "for key,value in dictionary.items():\n",
    "    if(vocabulary<=value):\n",
    "        vocabulary.append(key)\n",
    "        print(str(len(vocabulary))+' '+key)"
   ]
  },
  {
   "cell_type": "code",
   "execution_count": null,
   "id": "cdaa83d9",
   "metadata": {},
   "outputs": [],
   "source": [
    "len(vocabulary)"
   ]
  },
  {
   "cell_type": "code",
   "execution_count": null,
   "id": "143aba69-750d-4a3a-a5e1-3fff15638ada",
   "metadata": {},
   "outputs": [],
   "source": []
  }
 ],
 "metadata": {
  "kernelspec": {
   "display_name": "Python 3 (ipykernel)",
   "language": "python",
   "name": "python3"
  },
  "language_info": {
   "codemirror_mode": {
    "name": "ipython",
    "version": 3
   },
   "file_extension": ".py",
   "mimetype": "text/x-python",
   "name": "python",
   "nbconvert_exporter": "python",
   "pygments_lexer": "ipython3",
   "version": "3.9.12"
  }
 },
 "nbformat": 4,
 "nbformat_minor": 5
}
